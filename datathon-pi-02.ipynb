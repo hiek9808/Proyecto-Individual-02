{
 "cells": [
  {
   "cell_type": "code",
   "execution_count": 1,
   "metadata": {
    "collapsed": true
   },
   "outputs": [],
   "source": [
    "import pandas as pd\n",
    "import numpy as np"
   ]
  },
  {
   "cell_type": "markdown",
   "source": [
    "# Datos para modelar"
   ],
   "metadata": {
    "collapsed": false
   }
  },
  {
   "cell_type": "code",
   "execution_count": 2,
   "outputs": [],
   "source": [
    "train = pd.read_csv(\"./datasets/hospitalizaciones_train.csv\", index_col=\"patientid\")\n",
    "test = pd.read_csv(\"./datasets/hospitalizaciones_test.csv\", index_col=\"patientid\")"
   ],
   "metadata": {
    "collapsed": false
   }
  },
  {
   "cell_type": "code",
   "execution_count": 3,
   "outputs": [
    {
     "data": {
      "text/plain": "           Available Extra Rooms in Hospital  Department Ward_Facility_Code  \\\npatientid                                                                     \n33070                                      4  gynecology                  D   \n34808                                      4  gynecology                  B   \n44577                                      2  gynecology                  B   \n3695                                       4  gynecology                  D   \n108956                                     2  anesthesia                  E   \n\n          doctor_name  staff_available    Age  gender Type of Admission  \\\npatientid                                                                 \n33070       Dr Sophia                0  41-50  Female            Trauma   \n34808       Dr Sophia                2  31-40  Female            Trauma   \n44577       Dr Sophia                8  21-30  Female            Trauma   \n3695        Dr Olivia                7  31-40  Female            Urgent   \n108956        Dr Mark               10  71-80    Male            Trauma   \n\n          Severity of Illness health_conditions  Visitors with Patient  \\\npatientid                                                                \n33070                 Extreme          Diabetes                      4   \n34808                   Minor     Heart disease                      2   \n44577                 Extreme          Diabetes                      2   \n3695                 Moderate              None                      4   \n108956               Moderate          Diabetes                      2   \n\n          Insurance  Admission_Deposit  Stay (in days)  \npatientid                                               \n33070           Yes        2966.408696               8  \n34808            No        3554.835677               9  \n44577           Yes        5624.733654               7  \n3695             No        4814.149231               8  \n108956           No        5169.269637              34  ",
      "text/html": "<div>\n<style scoped>\n    .dataframe tbody tr th:only-of-type {\n        vertical-align: middle;\n    }\n\n    .dataframe tbody tr th {\n        vertical-align: top;\n    }\n\n    .dataframe thead th {\n        text-align: right;\n    }\n</style>\n<table border=\"1\" class=\"dataframe\">\n  <thead>\n    <tr style=\"text-align: right;\">\n      <th></th>\n      <th>Available Extra Rooms in Hospital</th>\n      <th>Department</th>\n      <th>Ward_Facility_Code</th>\n      <th>doctor_name</th>\n      <th>staff_available</th>\n      <th>Age</th>\n      <th>gender</th>\n      <th>Type of Admission</th>\n      <th>Severity of Illness</th>\n      <th>health_conditions</th>\n      <th>Visitors with Patient</th>\n      <th>Insurance</th>\n      <th>Admission_Deposit</th>\n      <th>Stay (in days)</th>\n    </tr>\n    <tr>\n      <th>patientid</th>\n      <th></th>\n      <th></th>\n      <th></th>\n      <th></th>\n      <th></th>\n      <th></th>\n      <th></th>\n      <th></th>\n      <th></th>\n      <th></th>\n      <th></th>\n      <th></th>\n      <th></th>\n      <th></th>\n    </tr>\n  </thead>\n  <tbody>\n    <tr>\n      <th>33070</th>\n      <td>4</td>\n      <td>gynecology</td>\n      <td>D</td>\n      <td>Dr Sophia</td>\n      <td>0</td>\n      <td>41-50</td>\n      <td>Female</td>\n      <td>Trauma</td>\n      <td>Extreme</td>\n      <td>Diabetes</td>\n      <td>4</td>\n      <td>Yes</td>\n      <td>2966.408696</td>\n      <td>8</td>\n    </tr>\n    <tr>\n      <th>34808</th>\n      <td>4</td>\n      <td>gynecology</td>\n      <td>B</td>\n      <td>Dr Sophia</td>\n      <td>2</td>\n      <td>31-40</td>\n      <td>Female</td>\n      <td>Trauma</td>\n      <td>Minor</td>\n      <td>Heart disease</td>\n      <td>2</td>\n      <td>No</td>\n      <td>3554.835677</td>\n      <td>9</td>\n    </tr>\n    <tr>\n      <th>44577</th>\n      <td>2</td>\n      <td>gynecology</td>\n      <td>B</td>\n      <td>Dr Sophia</td>\n      <td>8</td>\n      <td>21-30</td>\n      <td>Female</td>\n      <td>Trauma</td>\n      <td>Extreme</td>\n      <td>Diabetes</td>\n      <td>2</td>\n      <td>Yes</td>\n      <td>5624.733654</td>\n      <td>7</td>\n    </tr>\n    <tr>\n      <th>3695</th>\n      <td>4</td>\n      <td>gynecology</td>\n      <td>D</td>\n      <td>Dr Olivia</td>\n      <td>7</td>\n      <td>31-40</td>\n      <td>Female</td>\n      <td>Urgent</td>\n      <td>Moderate</td>\n      <td>None</td>\n      <td>4</td>\n      <td>No</td>\n      <td>4814.149231</td>\n      <td>8</td>\n    </tr>\n    <tr>\n      <th>108956</th>\n      <td>2</td>\n      <td>anesthesia</td>\n      <td>E</td>\n      <td>Dr Mark</td>\n      <td>10</td>\n      <td>71-80</td>\n      <td>Male</td>\n      <td>Trauma</td>\n      <td>Moderate</td>\n      <td>Diabetes</td>\n      <td>2</td>\n      <td>No</td>\n      <td>5169.269637</td>\n      <td>34</td>\n    </tr>\n  </tbody>\n</table>\n</div>"
     },
     "execution_count": 3,
     "metadata": {},
     "output_type": "execute_result"
    }
   ],
   "source": [
    "train.head()"
   ],
   "metadata": {
    "collapsed": false
   }
  },
  {
   "cell_type": "code",
   "execution_count": 4,
   "outputs": [
    {
     "name": "stdout",
     "output_type": "stream",
     "text": [
      "<class 'pandas.core.frame.DataFrame'>\n",
      "Int64Index: 410000 entries, 33070 to 128183\n",
      "Data columns (total 14 columns):\n",
      " #   Column                             Non-Null Count   Dtype  \n",
      "---  ------                             --------------   -----  \n",
      " 0   Available Extra Rooms in Hospital  410000 non-null  int64  \n",
      " 1   Department                         410000 non-null  object \n",
      " 2   Ward_Facility_Code                 410000 non-null  object \n",
      " 3   doctor_name                        410000 non-null  object \n",
      " 4   staff_available                    410000 non-null  int64  \n",
      " 5   Age                                410000 non-null  object \n",
      " 6   gender                             410000 non-null  object \n",
      " 7   Type of Admission                  410000 non-null  object \n",
      " 8   Severity of Illness                410000 non-null  object \n",
      " 9   health_conditions                  410000 non-null  object \n",
      " 10  Visitors with Patient              410000 non-null  int64  \n",
      " 11  Insurance                          410000 non-null  object \n",
      " 12  Admission_Deposit                  410000 non-null  float64\n",
      " 13  Stay (in days)                     410000 non-null  int64  \n",
      "dtypes: float64(1), int64(4), object(9)\n",
      "memory usage: 46.9+ MB\n"
     ]
    }
   ],
   "source": [
    "train.info()"
   ],
   "metadata": {
    "collapsed": false
   }
  },
  {
   "cell_type": "markdown",
   "source": [
    "# Limpiando los datos"
   ],
   "metadata": {
    "collapsed": false
   }
  },
  {
   "cell_type": "code",
   "execution_count": 5,
   "outputs": [],
   "source": [
    "# Limpiando toda fila que tenga una variable nula\n",
    "# train.dropna(axis=0, inplace=True)"
   ],
   "metadata": {
    "collapsed": false
   }
  },
  {
   "cell_type": "code",
   "execution_count": 6,
   "outputs": [
    {
     "data": {
      "text/plain": "           Available Extra Rooms in Hospital  Department Ward_Facility_Code  \\\npatientid                                                                     \n33070                                      4  gynecology                  D   \n34808                                      4  gynecology                  B   \n44577                                      2  gynecology                  B   \n3695                                       4  gynecology                  D   \n108956                                     2  anesthesia                  E   \n\n          doctor_name  staff_available    Age  gender Type of Admission  \\\npatientid                                                                 \n33070       Dr Sophia                0  41-50  Female            Trauma   \n34808       Dr Sophia                2  31-40  Female            Trauma   \n44577       Dr Sophia                8  21-30  Female            Trauma   \n3695        Dr Olivia                7  31-40  Female            Urgent   \n108956        Dr Mark               10  71-80    Male            Trauma   \n\n          Severity of Illness health_conditions  Visitors with Patient  \\\npatientid                                                                \n33070                 Extreme          Diabetes                      4   \n34808                   Minor     Heart disease                      2   \n44577                 Extreme          Diabetes                      2   \n3695                 Moderate              None                      4   \n108956               Moderate          Diabetes                      2   \n\n          Insurance  Admission_Deposit  Stay (in days)  Stay  \npatientid                                                     \n33070           Yes        2966.408696               8     0  \n34808            No        3554.835677               9     1  \n44577           Yes        5624.733654               7     0  \n3695             No        4814.149231               8     0  \n108956           No        5169.269637              34     1  ",
      "text/html": "<div>\n<style scoped>\n    .dataframe tbody tr th:only-of-type {\n        vertical-align: middle;\n    }\n\n    .dataframe tbody tr th {\n        vertical-align: top;\n    }\n\n    .dataframe thead th {\n        text-align: right;\n    }\n</style>\n<table border=\"1\" class=\"dataframe\">\n  <thead>\n    <tr style=\"text-align: right;\">\n      <th></th>\n      <th>Available Extra Rooms in Hospital</th>\n      <th>Department</th>\n      <th>Ward_Facility_Code</th>\n      <th>doctor_name</th>\n      <th>staff_available</th>\n      <th>Age</th>\n      <th>gender</th>\n      <th>Type of Admission</th>\n      <th>Severity of Illness</th>\n      <th>health_conditions</th>\n      <th>Visitors with Patient</th>\n      <th>Insurance</th>\n      <th>Admission_Deposit</th>\n      <th>Stay (in days)</th>\n      <th>Stay</th>\n    </tr>\n    <tr>\n      <th>patientid</th>\n      <th></th>\n      <th></th>\n      <th></th>\n      <th></th>\n      <th></th>\n      <th></th>\n      <th></th>\n      <th></th>\n      <th></th>\n      <th></th>\n      <th></th>\n      <th></th>\n      <th></th>\n      <th></th>\n      <th></th>\n    </tr>\n  </thead>\n  <tbody>\n    <tr>\n      <th>33070</th>\n      <td>4</td>\n      <td>gynecology</td>\n      <td>D</td>\n      <td>Dr Sophia</td>\n      <td>0</td>\n      <td>41-50</td>\n      <td>Female</td>\n      <td>Trauma</td>\n      <td>Extreme</td>\n      <td>Diabetes</td>\n      <td>4</td>\n      <td>Yes</td>\n      <td>2966.408696</td>\n      <td>8</td>\n      <td>0</td>\n    </tr>\n    <tr>\n      <th>34808</th>\n      <td>4</td>\n      <td>gynecology</td>\n      <td>B</td>\n      <td>Dr Sophia</td>\n      <td>2</td>\n      <td>31-40</td>\n      <td>Female</td>\n      <td>Trauma</td>\n      <td>Minor</td>\n      <td>Heart disease</td>\n      <td>2</td>\n      <td>No</td>\n      <td>3554.835677</td>\n      <td>9</td>\n      <td>1</td>\n    </tr>\n    <tr>\n      <th>44577</th>\n      <td>2</td>\n      <td>gynecology</td>\n      <td>B</td>\n      <td>Dr Sophia</td>\n      <td>8</td>\n      <td>21-30</td>\n      <td>Female</td>\n      <td>Trauma</td>\n      <td>Extreme</td>\n      <td>Diabetes</td>\n      <td>2</td>\n      <td>Yes</td>\n      <td>5624.733654</td>\n      <td>7</td>\n      <td>0</td>\n    </tr>\n    <tr>\n      <th>3695</th>\n      <td>4</td>\n      <td>gynecology</td>\n      <td>D</td>\n      <td>Dr Olivia</td>\n      <td>7</td>\n      <td>31-40</td>\n      <td>Female</td>\n      <td>Urgent</td>\n      <td>Moderate</td>\n      <td>None</td>\n      <td>4</td>\n      <td>No</td>\n      <td>4814.149231</td>\n      <td>8</td>\n      <td>0</td>\n    </tr>\n    <tr>\n      <th>108956</th>\n      <td>2</td>\n      <td>anesthesia</td>\n      <td>E</td>\n      <td>Dr Mark</td>\n      <td>10</td>\n      <td>71-80</td>\n      <td>Male</td>\n      <td>Trauma</td>\n      <td>Moderate</td>\n      <td>Diabetes</td>\n      <td>2</td>\n      <td>No</td>\n      <td>5169.269637</td>\n      <td>34</td>\n      <td>1</td>\n    </tr>\n  </tbody>\n</table>\n</div>"
     },
     "execution_count": 6,
     "metadata": {},
     "output_type": "execute_result"
    }
   ],
   "source": [
    "# Antes de seleccionar el objetivo de prediccion lo dividimos en estadia corta (menos de 8 dias) y estadia larga (mayor o igual a 8 dias)\n",
    "train[\"Stay\"] = (train[\"Stay (in days)\"] > 8).astype(int)\n",
    "train.head()"
   ],
   "metadata": {
    "collapsed": false
   }
  },
  {
   "cell_type": "code",
   "execution_count": 7,
   "outputs": [
    {
     "data": {
      "text/plain": "           Available Extra Rooms in Hospital  Department Ward_Facility_Code  \\\npatientid                                                                     \n33070                                      4  gynecology                  D   \n34808                                      4  gynecology                  B   \n44577                                      2  gynecology                  B   \n3695                                       4  gynecology                  D   \n108956                                     2  anesthesia                  E   \n...                                      ...         ...                ...   \n63105                                      1  gynecology                  D   \n129292                                     5  gynecology                  D   \n11399                                      4  gynecology                  D   \n75003                                     10  gynecology                  D   \n128183                                     3  gynecology                  F   \n\n          doctor_name  staff_available    Age  gender Type of Admission  \\\npatientid                                                                 \n33070       Dr Sophia                0  41-50  Female            Trauma   \n34808       Dr Sophia                2  31-40  Female            Trauma   \n44577       Dr Sophia                8  21-30  Female            Trauma   \n3695        Dr Olivia                7  31-40  Female            Urgent   \n108956        Dr Mark               10  71-80    Male            Trauma   \n...               ...              ...    ...     ...               ...   \n63105        Dr Sarah                1  31-40  Female            Trauma   \n129292      Dr Nathan                5  21-30  Female            Trauma   \n11399        Dr Sarah                9  21-30  Female         Emergency   \n75003       Dr Olivia               10  21-30  Female            Trauma   \n128183      Dr Nathan                0  41-50  Female            Trauma   \n\n          Severity of Illness health_conditions  Visitors with Patient  \\\npatientid                                                                \n33070                 Extreme          Diabetes                      4   \n34808                   Minor     Heart disease                      2   \n44577                 Extreme          Diabetes                      2   \n3695                 Moderate              None                      4   \n108956               Moderate          Diabetes                      2   \n...                       ...               ...                    ...   \n63105                   Minor           Asthama                      3   \n129292                Extreme             Other                      4   \n11399                   Minor           Asthama                      4   \n75003                Moderate             Other                      2   \n128183                  Minor             Other                      8   \n\n          Insurance  Admission_Deposit  \npatientid                               \n33070           Yes        2966.408696  \n34808            No        3554.835677  \n44577           Yes        5624.733654  \n3695             No        4814.149231  \n108956           No        5169.269637  \n...             ...                ...  \n63105           Yes        3902.291076  \n129292           No        4771.995223  \n11399           Yes        3816.994210  \n75003           Yes        3841.577491  \n128183          Yes        4329.046412  \n\n[410000 rows x 13 columns]",
      "text/html": "<div>\n<style scoped>\n    .dataframe tbody tr th:only-of-type {\n        vertical-align: middle;\n    }\n\n    .dataframe tbody tr th {\n        vertical-align: top;\n    }\n\n    .dataframe thead th {\n        text-align: right;\n    }\n</style>\n<table border=\"1\" class=\"dataframe\">\n  <thead>\n    <tr style=\"text-align: right;\">\n      <th></th>\n      <th>Available Extra Rooms in Hospital</th>\n      <th>Department</th>\n      <th>Ward_Facility_Code</th>\n      <th>doctor_name</th>\n      <th>staff_available</th>\n      <th>Age</th>\n      <th>gender</th>\n      <th>Type of Admission</th>\n      <th>Severity of Illness</th>\n      <th>health_conditions</th>\n      <th>Visitors with Patient</th>\n      <th>Insurance</th>\n      <th>Admission_Deposit</th>\n    </tr>\n    <tr>\n      <th>patientid</th>\n      <th></th>\n      <th></th>\n      <th></th>\n      <th></th>\n      <th></th>\n      <th></th>\n      <th></th>\n      <th></th>\n      <th></th>\n      <th></th>\n      <th></th>\n      <th></th>\n      <th></th>\n    </tr>\n  </thead>\n  <tbody>\n    <tr>\n      <th>33070</th>\n      <td>4</td>\n      <td>gynecology</td>\n      <td>D</td>\n      <td>Dr Sophia</td>\n      <td>0</td>\n      <td>41-50</td>\n      <td>Female</td>\n      <td>Trauma</td>\n      <td>Extreme</td>\n      <td>Diabetes</td>\n      <td>4</td>\n      <td>Yes</td>\n      <td>2966.408696</td>\n    </tr>\n    <tr>\n      <th>34808</th>\n      <td>4</td>\n      <td>gynecology</td>\n      <td>B</td>\n      <td>Dr Sophia</td>\n      <td>2</td>\n      <td>31-40</td>\n      <td>Female</td>\n      <td>Trauma</td>\n      <td>Minor</td>\n      <td>Heart disease</td>\n      <td>2</td>\n      <td>No</td>\n      <td>3554.835677</td>\n    </tr>\n    <tr>\n      <th>44577</th>\n      <td>2</td>\n      <td>gynecology</td>\n      <td>B</td>\n      <td>Dr Sophia</td>\n      <td>8</td>\n      <td>21-30</td>\n      <td>Female</td>\n      <td>Trauma</td>\n      <td>Extreme</td>\n      <td>Diabetes</td>\n      <td>2</td>\n      <td>Yes</td>\n      <td>5624.733654</td>\n    </tr>\n    <tr>\n      <th>3695</th>\n      <td>4</td>\n      <td>gynecology</td>\n      <td>D</td>\n      <td>Dr Olivia</td>\n      <td>7</td>\n      <td>31-40</td>\n      <td>Female</td>\n      <td>Urgent</td>\n      <td>Moderate</td>\n      <td>None</td>\n      <td>4</td>\n      <td>No</td>\n      <td>4814.149231</td>\n    </tr>\n    <tr>\n      <th>108956</th>\n      <td>2</td>\n      <td>anesthesia</td>\n      <td>E</td>\n      <td>Dr Mark</td>\n      <td>10</td>\n      <td>71-80</td>\n      <td>Male</td>\n      <td>Trauma</td>\n      <td>Moderate</td>\n      <td>Diabetes</td>\n      <td>2</td>\n      <td>No</td>\n      <td>5169.269637</td>\n    </tr>\n    <tr>\n      <th>...</th>\n      <td>...</td>\n      <td>...</td>\n      <td>...</td>\n      <td>...</td>\n      <td>...</td>\n      <td>...</td>\n      <td>...</td>\n      <td>...</td>\n      <td>...</td>\n      <td>...</td>\n      <td>...</td>\n      <td>...</td>\n      <td>...</td>\n    </tr>\n    <tr>\n      <th>63105</th>\n      <td>1</td>\n      <td>gynecology</td>\n      <td>D</td>\n      <td>Dr Sarah</td>\n      <td>1</td>\n      <td>31-40</td>\n      <td>Female</td>\n      <td>Trauma</td>\n      <td>Minor</td>\n      <td>Asthama</td>\n      <td>3</td>\n      <td>Yes</td>\n      <td>3902.291076</td>\n    </tr>\n    <tr>\n      <th>129292</th>\n      <td>5</td>\n      <td>gynecology</td>\n      <td>D</td>\n      <td>Dr Nathan</td>\n      <td>5</td>\n      <td>21-30</td>\n      <td>Female</td>\n      <td>Trauma</td>\n      <td>Extreme</td>\n      <td>Other</td>\n      <td>4</td>\n      <td>No</td>\n      <td>4771.995223</td>\n    </tr>\n    <tr>\n      <th>11399</th>\n      <td>4</td>\n      <td>gynecology</td>\n      <td>D</td>\n      <td>Dr Sarah</td>\n      <td>9</td>\n      <td>21-30</td>\n      <td>Female</td>\n      <td>Emergency</td>\n      <td>Minor</td>\n      <td>Asthama</td>\n      <td>4</td>\n      <td>Yes</td>\n      <td>3816.994210</td>\n    </tr>\n    <tr>\n      <th>75003</th>\n      <td>10</td>\n      <td>gynecology</td>\n      <td>D</td>\n      <td>Dr Olivia</td>\n      <td>10</td>\n      <td>21-30</td>\n      <td>Female</td>\n      <td>Trauma</td>\n      <td>Moderate</td>\n      <td>Other</td>\n      <td>2</td>\n      <td>Yes</td>\n      <td>3841.577491</td>\n    </tr>\n    <tr>\n      <th>128183</th>\n      <td>3</td>\n      <td>gynecology</td>\n      <td>F</td>\n      <td>Dr Nathan</td>\n      <td>0</td>\n      <td>41-50</td>\n      <td>Female</td>\n      <td>Trauma</td>\n      <td>Minor</td>\n      <td>Other</td>\n      <td>8</td>\n      <td>Yes</td>\n      <td>4329.046412</td>\n    </tr>\n  </tbody>\n</table>\n<p>410000 rows × 13 columns</p>\n</div>"
     },
     "execution_count": 7,
     "metadata": {},
     "output_type": "execute_result"
    }
   ],
   "source": [
    "# Seleccionamos el objetivo a predecir\n",
    "y = train.Stay\n",
    "\n",
    "# Seleccionamos las columnas que utilizara el modelo\n",
    "# hospital_features = [\"Available Extra Rooms in Hospital\", \"Department\", \"Ward_Facility_Code\", \"doctor_name\", \"staff_available\", \"Age\", \"gender\", \"Type of Admission\", \"Severity of Illness\", \"health_conditions\", \"Visitors with Patient\", \"Insurance\", \"Admission_Deposit\"]\n",
    "# hospital_features_only_numbers = ['Available Extra Rooms in Hospital', 'staff_available', 'Visitors with Patient']\n",
    "X = train.drop(['Stay (in days)', 'Stay'], axis=1)\n",
    "X"
   ],
   "metadata": {
    "collapsed": false
   }
  },
  {
   "cell_type": "markdown",
   "source": [
    "# Construyendo el modelo"
   ],
   "metadata": {
    "collapsed": false
   }
  },
  {
   "cell_type": "code",
   "execution_count": 8,
   "outputs": [],
   "source": [
    "# importamos las librerias que usaremos para el modelo\n",
    "from sklearn.tree import DecisionTreeClassifier\n",
    "from sklearn.model_selection import train_test_split"
   ],
   "metadata": {
    "collapsed": false
   }
  },
  {
   "cell_type": "code",
   "execution_count": 9,
   "outputs": [],
   "source": [
    "# Separamos la data entre la data para entrenar y data para validar\n",
    "train_X, val_X, train_y, val_y = train_test_split(X, y, train_size=0.8, test_size=0.2, random_state=8)"
   ],
   "metadata": {
    "collapsed": false
   }
  },
  {
   "cell_type": "code",
   "execution_count": 10,
   "outputs": [
    {
     "data": {
      "text/plain": "['Department',\n 'Ward_Facility_Code',\n 'doctor_name',\n 'Age',\n 'gender',\n 'Type of Admission',\n 'Severity of Illness',\n 'health_conditions',\n 'Insurance']"
     },
     "execution_count": 10,
     "metadata": {},
     "output_type": "execute_result"
    }
   ],
   "source": [
    "s = train_X.dtypes == 'object'\n",
    "list(s[s].index)"
   ],
   "metadata": {
    "collapsed": false
   }
  },
  {
   "cell_type": "code",
   "execution_count": 11,
   "outputs": [],
   "source": [
    "from sklearn.preprocessing import OrdinalEncoder\n",
    "\n",
    "# aplicamos ordinal Encoder a las categorias que tienen un tipo de ranking\n",
    "categorical_data_ranking = [\"Age\", \"Type of Admission\", \"Severity of Illness\"]\n",
    "\n",
    "ordinal_encoder = OrdinalEncoder()\n",
    "train_X[categorical_data_ranking] = ordinal_encoder.fit_transform(train_X[categorical_data_ranking])\n",
    "val_X[categorical_data_ranking] = ordinal_encoder.transform(val_X[categorical_data_ranking])\n"
   ],
   "metadata": {
    "collapsed": false
   }
  },
  {
   "cell_type": "code",
   "execution_count": 12,
   "outputs": [
    {
     "name": "stderr",
     "output_type": "stream",
     "text": [
      "C:\\Users\\devek\\PycharmProjects\\proyecto-individual-02\\venv\\lib\\site-packages\\sklearn\\preprocessing\\_encoders.py:808: FutureWarning: `sparse` was renamed to `sparse_output` in version 1.2 and will be removed in 1.4. `sparse_output` is ignored unless you leave `sparse` to its default value.\n",
      "  warnings.warn(\n",
      "C:\\Users\\devek\\PycharmProjects\\proyecto-individual-02\\venv\\lib\\site-packages\\sklearn\\preprocessing\\_encoders.py:808: FutureWarning: `sparse` was renamed to `sparse_output` in version 1.2 and will be removed in 1.4. `sparse_output` is ignored unless you leave `sparse` to its default value.\n",
      "  warnings.warn(\n"
     ]
    }
   ],
   "source": [
    "from sklearn.preprocessing import OneHotEncoder\n",
    "\n",
    "# aplicamos oneHotEncoder a las categorias en las cuales no importa el orden\n",
    "categorical_data_no_ranking = [\"Department\", \"gender\", \"Ward_Facility_Code\", \"doctor_name\", \"health_conditions\", \"Insurance\"]\n",
    "\n",
    "oh_encoder = OneHotEncoder(handle_unknown='ignore', sparse=False, categories='auto')\n",
    "oh_cols_train_X = pd.DataFrame(oh_encoder.fit_transform(train_X[categorical_data_no_ranking]))\n",
    "oh_cols_val_X = pd.DataFrame(oh_encoder.fit_transform(val_X[categorical_data_no_ranking]))\n",
    "\n",
    "oh_cols_train_X.index = train_X.index\n",
    "oh_cols_val_X.index = val_X.index\n",
    "\n",
    "train_X.drop(categorical_data_no_ranking, axis=1, inplace=True)\n",
    "val_X.drop(categorical_data_no_ranking, axis=1, inplace=True)\n",
    "\n",
    "train_X = pd.concat([train_X, oh_cols_train_X], axis=1)\n",
    "val_X = pd.concat([val_X, oh_cols_val_X], axis=1)"
   ],
   "metadata": {
    "collapsed": false
   }
  },
  {
   "cell_type": "code",
   "execution_count": 13,
   "outputs": [],
   "source": [
    "train_X.columns = train_X.columns.astype(str)\n",
    "val_X.columns = val_X.columns.astype(str)"
   ],
   "metadata": {
    "collapsed": false
   }
  },
  {
   "cell_type": "code",
   "execution_count": 14,
   "outputs": [
    {
     "data": {
      "text/plain": "DecisionTreeClassifier()",
      "text/html": "<style>#sk-container-id-1 {color: black;background-color: white;}#sk-container-id-1 pre{padding: 0;}#sk-container-id-1 div.sk-toggleable {background-color: white;}#sk-container-id-1 label.sk-toggleable__label {cursor: pointer;display: block;width: 100%;margin-bottom: 0;padding: 0.3em;box-sizing: border-box;text-align: center;}#sk-container-id-1 label.sk-toggleable__label-arrow:before {content: \"▸\";float: left;margin-right: 0.25em;color: #696969;}#sk-container-id-1 label.sk-toggleable__label-arrow:hover:before {color: black;}#sk-container-id-1 div.sk-estimator:hover label.sk-toggleable__label-arrow:before {color: black;}#sk-container-id-1 div.sk-toggleable__content {max-height: 0;max-width: 0;overflow: hidden;text-align: left;background-color: #f0f8ff;}#sk-container-id-1 div.sk-toggleable__content pre {margin: 0.2em;color: black;border-radius: 0.25em;background-color: #f0f8ff;}#sk-container-id-1 input.sk-toggleable__control:checked~div.sk-toggleable__content {max-height: 200px;max-width: 100%;overflow: auto;}#sk-container-id-1 input.sk-toggleable__control:checked~label.sk-toggleable__label-arrow:before {content: \"▾\";}#sk-container-id-1 div.sk-estimator input.sk-toggleable__control:checked~label.sk-toggleable__label {background-color: #d4ebff;}#sk-container-id-1 div.sk-label input.sk-toggleable__control:checked~label.sk-toggleable__label {background-color: #d4ebff;}#sk-container-id-1 input.sk-hidden--visually {border: 0;clip: rect(1px 1px 1px 1px);clip: rect(1px, 1px, 1px, 1px);height: 1px;margin: -1px;overflow: hidden;padding: 0;position: absolute;width: 1px;}#sk-container-id-1 div.sk-estimator {font-family: monospace;background-color: #f0f8ff;border: 1px dotted black;border-radius: 0.25em;box-sizing: border-box;margin-bottom: 0.5em;}#sk-container-id-1 div.sk-estimator:hover {background-color: #d4ebff;}#sk-container-id-1 div.sk-parallel-item::after {content: \"\";width: 100%;border-bottom: 1px solid gray;flex-grow: 1;}#sk-container-id-1 div.sk-label:hover label.sk-toggleable__label {background-color: #d4ebff;}#sk-container-id-1 div.sk-serial::before {content: \"\";position: absolute;border-left: 1px solid gray;box-sizing: border-box;top: 0;bottom: 0;left: 50%;z-index: 0;}#sk-container-id-1 div.sk-serial {display: flex;flex-direction: column;align-items: center;background-color: white;padding-right: 0.2em;padding-left: 0.2em;position: relative;}#sk-container-id-1 div.sk-item {position: relative;z-index: 1;}#sk-container-id-1 div.sk-parallel {display: flex;align-items: stretch;justify-content: center;background-color: white;position: relative;}#sk-container-id-1 div.sk-item::before, #sk-container-id-1 div.sk-parallel-item::before {content: \"\";position: absolute;border-left: 1px solid gray;box-sizing: border-box;top: 0;bottom: 0;left: 50%;z-index: -1;}#sk-container-id-1 div.sk-parallel-item {display: flex;flex-direction: column;z-index: 1;position: relative;background-color: white;}#sk-container-id-1 div.sk-parallel-item:first-child::after {align-self: flex-end;width: 50%;}#sk-container-id-1 div.sk-parallel-item:last-child::after {align-self: flex-start;width: 50%;}#sk-container-id-1 div.sk-parallel-item:only-child::after {width: 0;}#sk-container-id-1 div.sk-dashed-wrapped {border: 1px dashed gray;margin: 0 0.4em 0.5em 0.4em;box-sizing: border-box;padding-bottom: 0.4em;background-color: white;}#sk-container-id-1 div.sk-label label {font-family: monospace;font-weight: bold;display: inline-block;line-height: 1.2em;}#sk-container-id-1 div.sk-label-container {text-align: center;}#sk-container-id-1 div.sk-container {/* jupyter's `normalize.less` sets `[hidden] { display: none; }` but bootstrap.min.css set `[hidden] { display: none !important; }` so we also need the `!important` here to be able to override the default hidden behavior on the sphinx rendered scikit-learn.org. See: https://github.com/scikit-learn/scikit-learn/issues/21755 */display: inline-block !important;position: relative;}#sk-container-id-1 div.sk-text-repr-fallback {display: none;}</style><div id=\"sk-container-id-1\" class=\"sk-top-container\"><div class=\"sk-text-repr-fallback\"><pre>DecisionTreeClassifier()</pre><b>In a Jupyter environment, please rerun this cell to show the HTML representation or trust the notebook. <br />On GitHub, the HTML representation is unable to render, please try loading this page with nbviewer.org.</b></div><div class=\"sk-container\" hidden><div class=\"sk-item\"><div class=\"sk-estimator sk-toggleable\"><input class=\"sk-toggleable__control sk-hidden--visually\" id=\"sk-estimator-id-1\" type=\"checkbox\" checked><label for=\"sk-estimator-id-1\" class=\"sk-toggleable__label sk-toggleable__label-arrow\">DecisionTreeClassifier</label><div class=\"sk-toggleable__content\"><pre>DecisionTreeClassifier()</pre></div></div></div></div></div>"
     },
     "execution_count": 14,
     "metadata": {},
     "output_type": "execute_result"
    }
   ],
   "source": [
    "decision_tree_model = DecisionTreeClassifier()\n",
    "decision_tree_model.fit(train_X, train_y)"
   ],
   "metadata": {
    "collapsed": false
   }
  },
  {
   "cell_type": "code",
   "execution_count": 15,
   "outputs": [
    {
     "name": "stdout",
     "output_type": "stream",
     "text": [
      "Making predictions for the following 5 houses:\n",
      "           Available Extra Rooms in Hospital  staff_available  Age  \\\n",
      "patientid                                                            \n",
      "53573                                      2                9  1.0   \n",
      "94360                                      2                3  3.0   \n",
      "26602                                      3                4  2.0   \n",
      "24475                                      3               10  3.0   \n",
      "10359                                      2                8  1.0   \n",
      "\n",
      "           Type of Admission  Severity of Illness  Visitors with Patient  \\\n",
      "patientid                                                                  \n",
      "53573                    1.0                  2.0                      4   \n",
      "94360                    2.0                  2.0                      3   \n",
      "26602                    1.0                  0.0                      4   \n",
      "24475                    2.0                  2.0                      2   \n",
      "10359                    1.0                  2.0                      2   \n",
      "\n",
      "           Admission_Deposit    0    1    2  ...   21   22   23   24   25  \\\n",
      "patientid                                    ...                            \n",
      "53573            4390.015750  0.0  0.0  1.0  ...  0.0  0.0  1.0  0.0  0.0   \n",
      "94360            3739.663781  0.0  0.0  0.0  ...  0.0  0.0  0.0  1.0  0.0   \n",
      "26602            4428.062521  0.0  0.0  1.0  ...  0.0  1.0  0.0  1.0  0.0   \n",
      "24475            4205.664033  0.0  0.0  1.0  ...  0.0  0.0  0.0  0.0  0.0   \n",
      "10359            6860.600091  0.0  0.0  1.0  ...  0.0  0.0  0.0  0.0  0.0   \n",
      "\n",
      "            26   27   28   29   30  \n",
      "patientid                           \n",
      "53573      0.0  0.0  0.0  0.0  1.0  \n",
      "94360      0.0  0.0  0.0  0.0  1.0  \n",
      "26602      0.0  0.0  0.0  0.0  1.0  \n",
      "24475      0.0  1.0  0.0  0.0  1.0  \n",
      "10359      1.0  0.0  0.0  0.0  1.0  \n",
      "\n",
      "[5 rows x 38 columns]\n",
      "The predictions are\n",
      "[1 0 1 0 1]\n"
     ]
    }
   ],
   "source": [
    "print(\"Making predictions for the following 5 houses:\")\n",
    "print(val_X.head())\n",
    "print(\"The predictions are\")\n",
    "print(decision_tree_model.predict(val_X.head()))"
   ],
   "metadata": {
    "collapsed": false
   }
  },
  {
   "cell_type": "markdown",
   "source": [
    "# Validando el modelo"
   ],
   "metadata": {
    "collapsed": false
   }
  },
  {
   "cell_type": "code",
   "execution_count": 16,
   "outputs": [],
   "source": [
    "from sklearn.metrics import accuracy_score, recall_score"
   ],
   "metadata": {
    "collapsed": false
   }
  },
  {
   "cell_type": "code",
   "execution_count": 17,
   "outputs": [
    {
     "name": "stdout",
     "output_type": "stream",
     "text": [
      "0.7642560975609756\n"
     ]
    }
   ],
   "source": [
    "preds = decision_tree_model.predict(val_X)\n",
    "\n",
    "accuary = accuracy_score(val_y, preds)\n",
    "print(accuary)"
   ],
   "metadata": {
    "collapsed": false
   }
  },
  {
   "cell_type": "code",
   "execution_count": 18,
   "outputs": [
    {
     "data": {
      "text/plain": "0.810252576913998"
     },
     "execution_count": 18,
     "metadata": {},
     "output_type": "execute_result"
    }
   ],
   "source": [
    "recall = recall_score(val_y, preds)\n",
    "recall"
   ],
   "metadata": {
    "collapsed": false
   }
  },
  {
   "cell_type": "markdown",
   "source": [
    "# Pipeline"
   ],
   "metadata": {
    "collapsed": false
   }
  },
  {
   "cell_type": "code",
   "execution_count": 19,
   "outputs": [],
   "source": [
    "from sklearn.compose import ColumnTransformer\n",
    "from sklearn.pipeline import Pipeline\n",
    "from sklearn.preprocessing import OrdinalEncoder, OneHotEncoder\n",
    "from sklearn.metrics import accuracy_score, recall_score"
   ],
   "metadata": {
    "collapsed": false
   }
  },
  {
   "cell_type": "code",
   "execution_count": 20,
   "outputs": [
    {
     "name": "stderr",
     "output_type": "stream",
     "text": [
      "C:\\Users\\devek\\PycharmProjects\\proyecto-individual-02\\venv\\lib\\site-packages\\sklearn\\preprocessing\\_encoders.py:808: FutureWarning: `sparse` was renamed to `sparse_output` in version 1.2 and will be removed in 1.4. `sparse_output` is ignored unless you leave `sparse` to its default value.\n",
      "  warnings.warn(\n"
     ]
    },
    {
     "name": "stdout",
     "output_type": "stream",
     "text": [
      "recall: 0.9313872059170667\n"
     ]
    }
   ],
   "source": [
    "train_X, val_X, train_y, val_y = train_test_split(X, y, train_size=0.8, test_size=0.2, random_state=8)\n",
    "\n",
    "categorical_ranking_transformer = Pipeline(steps=[\n",
    "    ('ord_enc', OrdinalEncoder())\n",
    "])\n",
    "\n",
    "categorical_transformer = Pipeline(steps=[\n",
    "    ('onehot', OneHotEncoder(handle_unknown='ignore', sparse=False, categories='auto'))\n",
    "])\n",
    "\n",
    "preprocessor = ColumnTransformer(transformers=[\n",
    "    ('ranking_cat', categorical_ranking_transformer, categorical_data_ranking),\n",
    "    ('cat', categorical_transformer, categorical_data_no_ranking)\n",
    "])\n",
    "model = DecisionTreeClassifier()\n",
    "\n",
    "my_pipeline = Pipeline(steps=[('preprocessor', preprocessor),\n",
    "                              ('model', model)])\n",
    "\n",
    "my_pipeline.fit(train_X, train_y)\n",
    "\n",
    "preds = my_pipeline.predict(val_X)\n",
    "\n",
    "score = recall_score(val_y, preds)\n",
    "\n",
    "print('recall:', score)"
   ],
   "metadata": {
    "collapsed": false
   }
  },
  {
   "cell_type": "markdown",
   "source": [
    "# Test"
   ],
   "metadata": {
    "collapsed": false
   }
  },
  {
   "cell_type": "code",
   "execution_count": 21,
   "outputs": [],
   "source": [
    "preds_test = my_pipeline.predict(test)"
   ],
   "metadata": {
    "collapsed": false
   }
  },
  {
   "cell_type": "code",
   "execution_count": 22,
   "outputs": [],
   "source": [
    "pd.DataFrame(preds_test, columns=['pred']).to_csv('./hiek9808.csv',index=False)"
   ],
   "metadata": {
    "collapsed": false
   }
  },
  {
   "cell_type": "code",
   "execution_count": null,
   "outputs": [],
   "source": [],
   "metadata": {
    "collapsed": false
   }
  }
 ],
 "metadata": {
  "kernelspec": {
   "display_name": "Python 3",
   "language": "python",
   "name": "python3"
  },
  "language_info": {
   "codemirror_mode": {
    "name": "ipython",
    "version": 2
   },
   "file_extension": ".py",
   "mimetype": "text/x-python",
   "name": "python",
   "nbconvert_exporter": "python",
   "pygments_lexer": "ipython2",
   "version": "2.7.6"
  }
 },
 "nbformat": 4,
 "nbformat_minor": 0
}
